{
  "nbformat": 4,
  "nbformat_minor": 0,
  "metadata": {
    "colab": {
      "name": "NPS-AD_Classifier.ipynb",
      "provenance": [],
      "collapsed_sections": [],
      "authorship_tag": "ABX9TyOrdPUIcGh1qvy2VwzthsLS",
      "include_colab_link": true
    },
    "kernelspec": {
      "name": "python3",
      "display_name": "Python 3"
    }
  },
  "cells": [
    {
      "cell_type": "markdown",
      "metadata": {
        "id": "view-in-github",
        "colab_type": "text"
      },
      "source": [
        "<a href=\"https://colab.research.google.com/github/vivekgr92/16681-MRSD/blob/master/NPS_AD_Classifier.ipynb\" target=\"_parent\"><img src=\"https://colab.research.google.com/assets/colab-badge.svg\" alt=\"Open In Colab\"/></a>"
      ]
    },
    {
      "cell_type": "code",
      "metadata": {
        "id": "kyoqkRmBfs52",
        "colab_type": "code",
        "outputId": "b4a40502-23cc-46fe-8183-437d17d8882c",
        "colab": {
          "base_uri": "https://localhost:8080/",
          "height": 34
        }
      },
      "source": [
        "from zipfile import ZipFile\n",
        "file_name = \"curated_inputs.zip\"\n",
        "with ZipFile(file_name,'r') as zip:\n",
        "  zip.extractall()\n",
        "  print('Done')"
      ],
      "execution_count": 1,
      "outputs": [
        {
          "output_type": "stream",
          "text": [
            "Done\n"
          ],
          "name": "stdout"
        }
      ]
    },
    {
      "cell_type": "code",
      "metadata": {
        "id": "Fp0XhV3fmRP8",
        "colab_type": "code",
        "colab": {}
      },
      "source": [
        "import glob\n",
        "import pdb\n",
        "import os\n",
        "from shutil import copyfile"
      ],
      "execution_count": 0,
      "outputs": []
    },
    {
      "cell_type": "code",
      "metadata": {
        "id": "ZNT8oQ5nBeIa",
        "colab_type": "code",
        "colab": {}
      },
      "source": [
        "def generateDirs():\n",
        "  '''Generate Dir strucute with labels T and F '''\n",
        "  dataset_home = '/content/dataset/'\n",
        "  if not os.path.exists(dataset_home):\n",
        "    dataset_home = os.makedirs('/content' +'/dataset/')\n",
        "  \n",
        "  labeldirs = ['T/', 'F/']\n",
        "  for labldir in labeldirs:\n",
        "    newdir = dataset_home + labldir\n",
        "    os.makedirs(newdir, exist_ok=True)\n",
        "\n"
      ],
      "execution_count": 0,
      "outputs": []
    },
    {
      "cell_type": "code",
      "metadata": {
        "id": "jPSdGRBiEJ9v",
        "colab_type": "code",
        "colab": {}
      },
      "source": [
        "def checkDistribution(true_images, false_images):\n",
        "  print('True Images :',true_images)\n",
        "  print('False Images :', false_images)\n",
        "  print ('Ratio : ', true_images / false_images)\n"
      ],
      "execution_count": 0,
      "outputs": []
    },
    {
      "cell_type": "code",
      "metadata": {
        "id": "5K6BVVRKKm_u",
        "colab_type": "code",
        "colab": {}
      },
      "source": [
        "def copyFilesToDataset(src_file, dst_directory,dst_type):\n",
        "  filename = src_file.split('/')\n",
        "  dst = dst_directory + dst_type + filename[-1]\n",
        "  copyfile(src_file, dst)"
      ],
      "execution_count": 0,
      "outputs": []
    },
    {
      "cell_type": "code",
      "metadata": {
        "id": "xWh8kVLY9YyZ",
        "colab_type": "code",
        "colab": {}
      },
      "source": [
        "def generateFolder(image_filenames,dataset_home):\n",
        "  count_true = 0\n",
        "  count_false = 0\n",
        "  for num,filename in enumerate(image_filenames):\n",
        "    split_filename = filename.split('/')\n",
        "    file_struct = split_filename[4].split('_')\n",
        "    image_label = file_struct[0]\n",
        "    \n",
        "    generateDirs()\n",
        "\n",
        "    if (image_label == 'T'):\n",
        "      count_true = count_true + 1\n",
        "      copyFilesToDataset(filename, dataset_home, 'T/')\n",
        "\n",
        "    # False case\n",
        "    count_false = count_false + 1\n",
        "    copyFilesToDataset(filename, dataset_home, 'F/')\n",
        "\n",
        "  checkDistribution(count_true, count_false), \n"
      ],
      "execution_count": 0,
      "outputs": []
    },
    {
      "cell_type": "code",
      "metadata": {
        "id": "NrnMlADRlkjZ",
        "colab_type": "code",
        "outputId": "cf475cd3-8c3e-4f97-ed52-6597a58aa086",
        "colab": {
          "base_uri": "https://localhost:8080/",
          "height": 70
        }
      },
      "source": [
        "\n",
        "base_dir = '/content/curated_inputs'\n",
        "rgb_inputs = base_dir + '/rgb_inputs'\n",
        "dataset_home = '/content/dataset/'\n",
        "\n",
        "image_filenames = glob.glob('/content/curated_inputs/rgb_inputs/*.png')\n",
        "generateFolder(image_filenames, dataset_home)\n"
      ],
      "execution_count": 10,
      "outputs": [
        {
          "output_type": "stream",
          "text": [
            "True Images : 127\n",
            "False Images : 152\n",
            "Ratio :  0.8355263157894737\n"
          ],
          "name": "stdout"
        }
      ]
    },
    {
      "cell_type": "code",
      "metadata": {
        "id": "U1-6FHbkVcdA",
        "colab_type": "code",
        "colab": {
          "base_uri": "https://localhost:8080/",
          "height": 34
        },
        "outputId": "f736eef1-5199-40fb-dc67-416d957a587e"
      },
      "source": [
        "!git init\n"
      ],
      "execution_count": 11,
      "outputs": [
        {
          "output_type": "stream",
          "text": [
            "Initialized empty Git repository in /content/.git/\n"
          ],
          "name": "stdout"
        }
      ]
    },
    {
      "cell_type": "code",
      "metadata": {
        "id": "nu_e2J0eVhiB",
        "colab_type": "code",
        "colab": {}
      },
      "source": [
        "!git config --global user.email “vivekgr92@gmail.com”\n",
        "!git config --global user.name “vivekgr92”\n"
      ],
      "execution_count": 0,
      "outputs": []
    },
    {
      "cell_type": "code",
      "metadata": {
        "id": "_hIutP5dWBc0",
        "colab_type": "code",
        "colab": {
          "base_uri": "https://localhost:8080/",
          "height": 34
        },
        "outputId": "3decbb4e-7a7f-4748-d98c-4bda21e181a5"
      },
      "source": [
        "!git remote add origin  https://vivekgr92:Armstrong@92/https://github.com/CMC-NPS-AD/image-dl.git\n"
      ],
      "execution_count": 25,
      "outputs": [
        {
          "output_type": "stream",
          "text": [
            "fatal: remote origin already exists.\n"
          ],
          "name": "stdout"
        }
      ]
    },
    {
      "cell_type": "code",
      "metadata": {
        "id": "2E6djh97WRsd",
        "colab_type": "code",
        "colab": {
          "base_uri": "https://localhost:8080/",
          "height": 263
        },
        "outputId": "d334f143-1cd1-4f16-eaa9-2519a32e069b"
      },
      "source": [
        "!git status"
      ],
      "execution_count": 26,
      "outputs": [
        {
          "output_type": "stream",
          "text": [
            "On branch master\n",
            "\n",
            "No commits yet\n",
            "\n",
            "Untracked files:\n",
            "  (use \"git add <file>...\" to include in what will be committed)\n",
            "\n",
            "\t\u001b[31m.config/\u001b[m\n",
            "\t\u001b[31mcurated_inputs.zip\u001b[m\n",
            "\t\u001b[31mcurated_inputs/\u001b[m\n",
            "\t\u001b[31mdataset/\u001b[m\n",
            "\t\u001b[31msample_data/\u001b[m\n",
            "\n",
            "nothing added to commit but untracked files present (use \"git add\" to track)\n"
          ],
          "name": "stdout"
        }
      ]
    },
    {
      "cell_type": "code",
      "metadata": {
        "id": "1i-kDHhKXcIe",
        "colab_type": "code",
        "colab": {
          "base_uri": "https://localhost:8080/",
          "height": 34
        },
        "outputId": "84d2a27a-ef99-45ab-d1d3-4d9ffb4b6a49"
      },
      "source": [
        "!git checkout -b 'Classifier'"
      ],
      "execution_count": 28,
      "outputs": [
        {
          "output_type": "stream",
          "text": [
            "Switched to a new branch 'Classifier'\n"
          ],
          "name": "stdout"
        }
      ]
    },
    {
      "cell_type": "code",
      "metadata": {
        "id": "IkL6rcv8YnKl",
        "colab_type": "code",
        "colab": {
          "base_uri": "https://localhost:8080/",
          "height": 263
        },
        "outputId": "441ecc9e-2b6b-4994-f735-a252ad48ac88"
      },
      "source": [
        "!git status"
      ],
      "execution_count": 29,
      "outputs": [
        {
          "output_type": "stream",
          "text": [
            "On branch Classifier\n",
            "\n",
            "No commits yet\n",
            "\n",
            "Untracked files:\n",
            "  (use \"git add <file>...\" to include in what will be committed)\n",
            "\n",
            "\t\u001b[31m.config/\u001b[m\n",
            "\t\u001b[31mcurated_inputs.zip\u001b[m\n",
            "\t\u001b[31mcurated_inputs/\u001b[m\n",
            "\t\u001b[31mdataset/\u001b[m\n",
            "\t\u001b[31msample_data/\u001b[m\n",
            "\n",
            "nothing added to commit but untracked files present (use \"git add\" to track)\n"
          ],
          "name": "stdout"
        }
      ]
    },
    {
      "cell_type": "code",
      "metadata": {
        "id": "IZdJd8wsYuJc",
        "colab_type": "code",
        "colab": {}
      },
      "source": [
        ""
      ],
      "execution_count": 0,
      "outputs": []
    }
  ]
}